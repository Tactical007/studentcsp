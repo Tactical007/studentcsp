{
 "cells": [
  {
   "cell_type": "markdown",
   "metadata": {
    "vscode": {
     "languageId": "plaintext"
    }
   },
   "source": [
    "---\n",
    "layout: post\n",
    "title: MCQ test corrections\n",
    "description: \n",
    "type: issues\n",
    "comments: true\n",
    "permalink: /mcqcorrections\n",
    "---\n"
   ]
  },
  {
   "cell_type": "markdown",
   "metadata": {},
   "source": [
    "### My score was a 59/66\n",
    "\n",
    "I found the quiz to be extremley challanging and were vastly based on conductive Q29\n",
    "\n",
    "\n",
    "\n",
    "\n",
    "\n",
    "\n",
    "\n",
    "\n"
   ]
  }
 ],
 "metadata": {
  "language_info": {
   "name": "python"
  }
 },
 "nbformat": 4,
 "nbformat_minor": 2
}
