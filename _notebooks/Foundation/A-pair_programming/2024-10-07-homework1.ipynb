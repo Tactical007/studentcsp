{
 "cells": [
  {
   "cell_type": "markdown",
   "metadata": {
    "vscode": {
     "languageId": "raw"
    }
   },
   "source": [
    "---\n",
    "layout: post\n",
    "title: Homework1\n",
    "description: \n",
    "type: issues\n",
    "comments: true\n",
    "permalink: /homework1\n",
    "---\n",
    "\n"
   ]
  },
  {
   "cell_type": "markdown",
   "metadata": {},
   "source": [
    "### Python Hacks 3.1"
   ]
  },
  {
   "cell_type": "code",
   "execution_count": 14,
   "metadata": {},
   "outputs": [
    {
     "name": "stdout",
     "output_type": "stream",
     "text": [
      "Step 1: 10 is of type <class 'int'>\n",
      "Step 2: 10.5 is of type <class 'float'>\n",
      "Step 3: Hello, World! is of type <class 'str'>\n",
      "Step 4: True is of type <class 'bool'>\n"
     ]
    }
   ],
   "source": [
    "# Step 1: Initialize the variable\n",
    "my_var = 10  # Integer\n",
    "print(f\"Step 1: {my_var} is of type {type(my_var)}\")\n",
    "\n",
    "# Step 2: Reassign to float\n",
    "my_var = 10.5  # Float\n",
    "print(f\"Step 2: {my_var} is of type {type(my_var)}\")\n",
    "\n",
    "# Step 3: Reassigning to string\n",
    "my_var = \"Hello, World!\"  # String\n",
    "print(f\"Step 3: {my_var} is of type {type(my_var)}\")\n",
    "\n",
    "# Step 4: Reassigning to a boolean\n",
    "my_var = True  # Boolean\n",
    "print(f\"Step 4: {my_var} is of type {type(my_var)}\")"
   ]
  },
  {
   "cell_type": "markdown",
   "metadata": {},
   "source": [
    "### Javascript Hacks 3.1"
   ]
  },
  {
   "cell_type": "code",
   "execution_count": 15,
   "metadata": {},
   "outputs": [
    {
     "name": "stdout",
     "output_type": "stream",
     "text": [
      "Luke Starr, aged 16, can be contacted at lstarr1100@gmail.com and has a balance of $999 in his account.\n"
     ]
    }
   ],
   "source": [
    "# Step 1: Assign values to appropriate variables\n",
    "full_name = \"Luke Starr\"\n",
    "age = 16\n",
    "email = \"lstarr1100@gmail.com\"\n",
    "account_balance = 999\n",
    "\n",
    "# Step 2: Display the information\n",
    "print(f\"{full_name}, aged {age}, can be contacted at {email} and has a balance of ${account_balance} in his account.\")\n"
   ]
  },
  {
   "cell_type": "markdown",
   "metadata": {},
   "source": [
    "### Python Hacks 3.4"
   ]
  },
  {
   "cell_type": "code",
   "execution_count": 16,
   "metadata": {},
   "outputs": [
    {
     "name": "stdout",
     "output_type": "stream",
     "text": [
      "The number of vowels in the string is: 13\n"
     ]
    }
   ],
   "source": [
    "# Function that counts vowels in a string\n",
    "def count_vowels(input_string):\n",
    "    # Define the vowels\n",
    "    vowels = \"aeiouAEIOU\"\n",
    "    \n",
    "    # Initialize a counter for vowels\n",
    "    vowel_count = 0\n",
    "    \n",
    "    # Repeat the string and count vowels\n",
    "    for char in input_string:\n",
    "        if char in vowels:\n",
    "            vowel_count += 1\n",
    "    \n",
    "    return vowel_count\n",
    "\n",
    "# Input string\n",
    "input_string = \"Hello, how many vowels are in this sentance?\"\n",
    "\n",
    "# Call the function and display the result\n",
    "print(f\"The number of vowels in the string is: {count_vowels(input_string)}\")\n"
   ]
  },
  {
   "cell_type": "markdown",
   "metadata": {},
   "source": [
    "### Javascript Hacks 3.4"
   ]
  },
  {
   "cell_type": "code",
   "execution_count": 17,
   "metadata": {},
   "outputs": [
    {
     "name": "stdout",
     "output_type": "stream",
     "text": [
      "The secret to life is (redacted)\n"
     ]
    }
   ],
   "source": [
    "# Original noisy message\n",
    "noisy_message = \"The...secret...to...life...is...(redacted)\"\n",
    "\n",
    "# Use the replace() method to remove the '...'\n",
    "clean_message = noisy_message.replace(\"...\", \" \")\n",
    "\n",
    "# Display the cleaned message\n",
    "print(clean_message)\n"
   ]
  },
  {
   "cell_type": "code",
   "execution_count": 18,
   "metadata": {},
   "outputs": [
    {
     "name": "stdout",
     "output_type": "stream",
     "text": [
      "Cleaned message: hello what is this cleaned?\n"
     ]
    }
   ],
   "source": [
    "# Function to remove '...' from the input string\n",
    "def remove_noise(user_input):\n",
    "    # Use the replace() method to remove '...'\n",
    "    cleaned_input = user_input.replace(\"...\", \" \")\n",
    "    return cleaned_input\n",
    "\n",
    "# Take input from the user\n",
    "user_input = input(\"Enter your message: \")\n",
    "\n",
    "# Remove the noise and display the cleaned output\n",
    "cleaned_message = remove_noise(user_input)\n",
    "print(\"Cleaned message:\", cleaned_message)\n"
   ]
  }
 ],
 "metadata": {
  "kernelspec": {
   "display_name": "venv",
   "language": "python",
   "name": "python3"
  },
  "language_info": {
   "codemirror_mode": {
    "name": "ipython",
    "version": 3
   },
   "file_extension": ".py",
   "mimetype": "text/x-python",
   "name": "python",
   "nbconvert_exporter": "python",
   "pygments_lexer": "ipython3",
   "version": "3.12.3"
  }
 },
 "nbformat": 4,
 "nbformat_minor": 2
}
