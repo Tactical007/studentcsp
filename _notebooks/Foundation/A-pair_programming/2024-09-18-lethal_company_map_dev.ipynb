{
 "cells": [
  {
   "cell_type": "raw",
   "metadata": {
    "vscode": {
     "languageId": "raw"
    }
   },
   "source": [
    "---\n",
    "layout: post\n",
    "title: Lethal Company and Map Devlopment\n",
    "description: personal project and design attributes\n",
    "type: issues\n",
    "comments: true\n",
    "permalink: /lethalcomp\n",
    "---\n",
    "\n",
    "I in the past with others over a year ago developed a project with my friends outside of school, and created a very popular modded map for a videogame called Lethal Company. This game was a very popular game at the time, and thus had people with as much as 12 million followers, visting our map and discussing our work. This map in particular gained mass traction within the game being in the top 10 most popular maps in lethal company with over ~~800,000~~ 850,000 downloads.\n",
    "\n",
    "![](../images/portfolioimg/Lethal-Company-1.jpg)\n",
    "Outside of my newer interest in programming, I enjoy playing some videogames with friends when I can. I'm also very passionate about me starting to do game devlopment in my freetime.\n",
    "My friends and I over the course of a week used a sdk file and implemented numberous assets in order to create a new and unique map based off of a fan favorite show, Family Guy. Soon after we first finsihed the map we had experinced a large increase in popularity and also had some of our childhood heros or some influencers look at, or play on our project map. \n",
    "![](../images/portfolioimg/lethalmodmap.jpg)\n"
   ]
  }
 ],
 "metadata": {
  "kernelspec": {
   "display_name": "Python 3",
   "language": "python",
   "name": "python3"
  },
  "language_info": {
   "codemirror_mode": {
    "name": "ipython",
    "version": 3
   },
   "file_extension": ".py",
   "mimetype": "text/x-python",
   "name": "python",
   "nbconvert_exporter": "python",
   "pygments_lexer": "ipython3",
   "version": "3.12.3"
  }
 },
 "nbformat": 4,
 "nbformat_minor": 2
}
