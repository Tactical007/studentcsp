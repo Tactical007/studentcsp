{
 "cells": [
  {
   "cell_type": "markdown",
   "metadata": {
    "vscode": {
     "languageId": "raw"
    }
   },
   "source": [
    "---\n",
    "layout: post\n",
    "title: Homework3\n",
    "description: The secound homework, within 3.10. 3.8, and 3.2\n",
    "type: issues\n",
    "comments: true\n",
    "permalink: /homework3\n",
    "---"
   ]
  },
  {
   "cell_type": "markdown",
   "metadata": {},
   "source": [
    "### Popcorn Hack 3.10"
   ]
  },
  {
   "cell_type": "code",
   "execution_count": 9,
   "metadata": {},
   "outputs": [
    {
     "name": "stdout",
     "output_type": "stream",
     "text": [
      "['three']\n"
     ]
    }
   ],
   "source": [
    "# created list intially\n",
    "numbers = ['one', 'two', 'three', 'four']\n",
    " \n",
    "# removing the number 4\n",
    "numbers.remove('four')\n",
    "# removing the number 1\n",
    "numbers.remove('one')\n",
    "# removing the secound value being 2\n",
    "numbers.pop(0)\n",
    "# printing the final list leaving only one value remaining\n",
    "print(numbers)"
   ]
  },
  {
   "cell_type": "markdown",
   "metadata": {},
   "source": [
    "### Pop Corn Hack 2 3.10"
   ]
  },
  {
   "cell_type": "code",
   "execution_count": 15,
   "metadata": {},
   "outputs": [
    {
     "name": "stdout",
     "output_type": "stream",
     "text": [
      "[2, 4, 6, 8, 10]\n"
     ]
    }
   ],
   "source": [
    "# creating list of numerical numbers 1-10\n",
    "regular_numbers=[1, 2, 3, 4, 5, 6, 7, 8, 9, 10]\n",
    "even_numbers=[num for num in regular_numbers if num % 2 == 0]\n",
    "print(even_numbers)"
   ]
  },
  {
   "cell_type": "markdown",
   "metadata": {},
   "source": [
    "### 3.10 Homework question 1"
   ]
  },
  {
   "cell_type": "code",
   "execution_count": 13,
   "metadata": {},
   "outputs": [
    {
     "name": "stdout",
     "output_type": "stream",
     "text": [
      "'banana' is in the list.\n",
      "'apple'is in the list.\n",
      "current list: ['orange', 'grapes', 'carrot', 'pineapple', 'kiwi', 'mango', 'banana']\n",
      "Max value in the list: 25\n",
      "Min value in the list: 7\n",
      "Exiting program.\n"
     ]
    }
   ],
   "source": [
    "# defining the first function as foods and then displaying the current list \n",
    "foods=['orange', 'grapes', 'carrot', 'pineapple', 'kiwi', 'mango']\n",
    "def display_list(foods):\n",
    "    print(\"current list:\", foods)\n",
    "\n",
    "# adding a apple to the list(added item)\n",
    "def add_item(foods, apple):\n",
    "    foods.append(apple)\n",
    "# function created to remove the orange from the list(removed item)\n",
    "def remove_item(foods, orange):\n",
    "    if orange in foods:\n",
    "        foods.remove(orange)\n",
    "        print(f\"'{orange}'is in the list.\")\n",
    "    else:\n",
    "        print(f\"'{orange} is not in the list.\")\n",
    "# Function to examine the existance of an item\n",
    "def check_item(foods, grapes):\n",
    "    if grapes in foods:\n",
    "        print(f\"'{grapes}' is in the list.\")\n",
    "    else: \n",
    "        print(f\"'{grapes}' is not in the list.\")\n",
    "# finding the maximum value\n",
    "def find_max(foods):\n",
    "    # Ensuring all items in the list are comparable (numeric values for max)\n",
    "    numeric_foods = [item for item in foods if isinstance(item, (int, float))]\n",
    "    if numeric_foods:\n",
    "        max_val = numeric_foods[0]\n",
    "        for num in numeric_foods:\n",
    "            if num > max_val:\n",
    "                max_val = num\n",
    "        return max_val\n",
    "    else:\n",
    "        return None\n",
    "\n",
    "# Function to find the minimum value in the list\n",
    "def find_min(foods):\n",
    "    # Ensuring all items in the list are comparable (numeric values for min)\n",
    "    numeric_foods = [item for item in foods if isinstance(item, (int, float))]\n",
    "    if numeric_foods:\n",
    "        min_val = numeric_foods[0]\n",
    "        for num in numeric_foods:\n",
    "            if num < min_val:\n",
    "                min_val = num\n",
    "        return min_val\n",
    "    else:\n",
    "        return None\n",
    "\n",
    "# Initialize a list of actions for testing the program\n",
    "actions = [\n",
    "    ('add', 'apple'),\n",
    "    ('add', 'banana'),\n",
    "    ('check', 'banana'),\n",
    "    ('remove', 'apple'),\n",
    "    ('display', None),\n",
    "    ('add', 25),\n",
    "    ('add', 7),\n",
    "    ('max', None),\n",
    "    ('min', None),\n",
    "    ('quit', None)\n",
    "]\n",
    "\n",
    "# creating loop in order to sim the operations and then breaking so the loop dosnt continue\n",
    "for action, value in actions:\n",
    "    if action == 'add':\n",
    "        add_item(foods, value)\n",
    "    elif action == 'remove':\n",
    "        remove_item(foods, value)\n",
    "    elif action == 'check':\n",
    "        check_item(foods, value)\n",
    "    elif action == 'display':\n",
    "        display_list(foods)\n",
    "    elif action == 'max':\n",
    "        max_value = find_max(foods)\n",
    "        if max_value is not None:\n",
    "            print(\"Max value in the list:\", max_value)\n",
    "        else:\n",
    "            print(\"The list does not contain numeric values.\")\n",
    "    elif action == 'min':\n",
    "        min_value = find_min(foods)\n",
    "        if min_value is not None:\n",
    "            print(\"Min value in the list:\", min_value)\n",
    "        else:\n",
    "            print(\"The list does not contain numeric values.\")\n",
    "    elif action == 'quit':\n",
    "        print(\"Exiting program.\")\n",
    "        break\n",
    "\n",
    "    \n"
   ]
  },
  {
   "cell_type": "markdown",
   "metadata": {},
   "source": [
    "### 3.10 Homework question 2"
   ]
  },
  {
   "cell_type": "code",
   "execution_count": 17,
   "metadata": {},
   "outputs": [
    {
     "data": {
      "application/javascript": "# array to hold items in the shopping cart\nlet shoppingCart = [];\n\n// Function to display the items in the cart\nfunction displayCart() {\n    if (shoppingCart.length === 0) {\n        alert(\"The cart is empty.\");\n    } else {\n        alert(\"Items in your cart: \\n\" + shoppingCart.join(\", \"));\n    }\n}\n\n# Function to add an item to the cart\nfunction addItem() {\n    let item = prompt(\"Enter the item you want to add:\");\n    if (item) {\n        shoppingCart.push(item);\n        alert(`'${item}' has been added to your cart.`);\n    } else {\n        alert(\"Please enter a valid item.\");\n    }\n    displayCart();\n}\n\n# Function to remove an item from the cart\nfunction removeItem() {\n    let item = prompt(\"Enter the item you want to remove:\");\n    let index = shoppingCart.indexOf(item);\n    if (index !== -1) {\n        shoppingCart.splice(index, 1);\n        alert(`'${item}' has been removed from your cart.`);\n    } else {\n        alert(`'${item}' is not in the cart.`);\n    }\n    displayCart();\n}\n\n# Function to clear all items from the cart\nfunction clearCart() {\n    shoppingCart = [];\n    alert(\"The cart has been cleared.\");\n    displayCart();\n}\n\n# Main menu to interact with the cart\nfunction shoppingMenu() {\n    let option;\n    do {\n        option = prompt(\"What would you like to do?\\n1: Add item\\n2: Remove item\\n3: View cart\\n4: Clear cart\\n5: Quit\");\n\n        switch (option) {\n            case '1':\n                addItem();\n                break;\n            case '2':\n                removeItem();\n                break;\n            case '3':\n                displayCart();\n                break;\n            case '4':\n                clearCart();\n                break;\n            case '5':\n                alert(\"Thanks for shopping! Goodbye.\");\n                break;\n            default:\n                alert(\"Invalid option. Please select a valid number.\");\n        }\n    } while (option !== '5');\n}\n\n# Start the shopping cart program\nshoppingMenu();\n",
      "text/plain": [
       "<IPython.core.display.Javascript object>"
      ]
     },
     "metadata": {},
     "output_type": "display_data"
    }
   ],
   "source": [
    "%%js\n",
    "# array to hold items in the shopping cart\n",
    "let shoppingCart = [];\n",
    "\n",
    "// Function to display the items in the cart\n",
    "function displayCart() {\n",
    "    if (shoppingCart.length === 0) {\n",
    "        alert(\"The cart is empty.\");\n",
    "    } else {\n",
    "        alert(\"Items in your cart: \\n\" + shoppingCart.join(\", \"));\n",
    "    }\n",
    "}\n",
    "\n",
    "# Function to add an item to the cart\n",
    "function addItem() {\n",
    "    let item = prompt(\"Enter the item you want to add:\");\n",
    "    if (item) {\n",
    "        shoppingCart.push(item);\n",
    "        alert(`'${item}' has been added to your cart.`);\n",
    "    } else {\n",
    "        alert(\"Please enter a valid item.\");\n",
    "    }\n",
    "    displayCart();\n",
    "}\n",
    "\n",
    "# Function to remove an item from the cart\n",
    "function removeItem() {\n",
    "    let item = prompt(\"Enter the item you want to remove:\");\n",
    "    let index = shoppingCart.indexOf(item);\n",
    "    if (index !== -1) {\n",
    "        shoppingCart.splice(index, 1);\n",
    "        alert(`'${item}' has been removed from your cart.`);\n",
    "    } else {\n",
    "        alert(`'${item}' is not in the cart.`);\n",
    "    }\n",
    "    displayCart();\n",
    "}\n",
    "\n",
    "# Function to clear all items from the cart\n",
    "function clearCart() {\n",
    "    shoppingCart = [];\n",
    "    alert(\"The cart has been cleared.\");\n",
    "    displayCart();\n",
    "}\n",
    "\n",
    "# Main menu to interact with the cart\n",
    "function shoppingMenu() {\n",
    "    let option;\n",
    "    do {\n",
    "        option = prompt(\"What would you like to do?\\n1: Add item\\n2: Remove item\\n3: View cart\\n4: Clear cart\\n5: Quit\");\n",
    "\n",
    "        switch (option) {\n",
    "            case '1':\n",
    "                addItem();\n",
    "                break;\n",
    "            case '2':\n",
    "                removeItem();\n",
    "                break;\n",
    "            case '3':\n",
    "                displayCart();\n",
    "                break;\n",
    "            case '4':\n",
    "                clearCart();\n",
    "                break;\n",
    "            case '5':\n",
    "                alert(\"Thanks for shopping! Goodbye.\");\n",
    "                break;\n",
    "            default:\n",
    "                alert(\"Invalid option. Please select a valid number.\");\n",
    "        }\n",
    "    } while (option !== '5');\n",
    "}\n",
    "\n",
    "# Start the shopping cart program\n",
    "shoppingMenu();"
   ]
  },
  {
   "cell_type": "markdown",
   "metadata": {},
   "source": [
    "### 3.2 Homework - Popcorn hack"
   ]
  },
  {
   "cell_type": "code",
   "execution_count": 21,
   "metadata": {},
   "outputs": [],
   "source": [
    "# creating dictionary\n",
    "person = {\n",
    "    \"name\": \"Luke\",\n",
    "    \"age\": 16,\n",
    "    \"is_student\": True,\n",
    "    \"idenified_gender\": \"male\",\n",
    "}\n",
    "# updating items\n",
    "person[\"age\"] = 26\n",
    "\n",
    "# adding an item to the dictionary\n",
    "person[\"Johan\"] = {\n",
    "    \"name\": \"Johan\",\n",
    "    \"age\": 16,\n",
    "    \"is_student\": True,\n",
    "}"
   ]
  },
  {
   "cell_type": "markdown",
   "metadata": {},
   "source": [
    "### 3.2 Homework pop-corn hack 2"
   ]
  },
  {
   "cell_type": "code",
   "execution_count": 22,
   "metadata": {},
   "outputs": [
    {
     "name": "stdout",
     "output_type": "stream",
     "text": [
      "The length of the entered string is: 16\n"
     ]
    }
   ],
   "source": [
    "# obtain user data in order to then enter info to count the length of a string\n",
    "user_string = input(\"Please enter a string: \")\n",
    "\n",
    "# Check the length of the string in number of digits\n",
    "string_length = len(user_string)\n",
    "\n",
    "# Print the length of the string once you have checked the intial length\n",
    "print(f\"The length of the entered string is: {string_length}\")"
   ]
  },
  {
   "cell_type": "markdown",
   "metadata": {},
   "source": [
    "### 3.2 Homework"
   ]
  },
  {
   "cell_type": "code",
   "execution_count": 24,
   "metadata": {},
   "outputs": [
    {
     "name": "stdout",
     "output_type": "stream",
     "text": [
      "Dictionary: {'fruit': 'apple', 'color': 'blue', 'animal': 'dog'}\n"
     ]
    }
   ],
   "source": [
    "# Create a dictionary with 3 keys\n",
    "association_list = {\n",
    "    \"fruit\": \"apple\",\n",
    "    \"color\": \"blue\",\n",
    "    \"animal\": \"dog\"\n",
    "}\n",
    "\n",
    "# Print the dictionary\n",
    "print(\"Dictionary:\", association_list)"
   ]
  },
  {
   "cell_type": "code",
   "execution_count": 23,
   "metadata": {},
   "outputs": [
    {
     "name": "stdout",
     "output_type": "stream",
     "text": [
      "Updated Dictionary: {'name': 'Alice', 'age': 31}\n"
     ]
    }
   ],
   "source": [
    "person = {\"name\": \"Alice\", \"age\": 30}\n",
    "\n",
    "# Updating the age to 31\n",
    "person[\"age\"] = 31\n",
    "\n",
    "# Print the updated dictionary\n",
    "print(\"Updated Dictionary:\", person)"
   ]
  },
  {
   "cell_type": "markdown",
   "metadata": {},
   "source": [
    "Popcorn Hack 3.8"
   ]
  },
  {
   "cell_type": "code",
   "execution_count": 1,
   "metadata": {},
   "outputs": [
    {
     "name": "stdout",
     "output_type": "stream",
     "text": [
      "28 is divisible by 2.\n"
     ]
    }
   ],
   "source": [
    "# Function to check if a number is divisible by 2\n",
    "def check_divisible_by_two():\n",
    "    # Get user input and convert it to a number\n",
    "    user_input = int(input(\"Please enter a number: \"))\n",
    "\n",
    "    # Check to see if the number is divisible by 2\n",
    "    if user_input % 2 == 0:\n",
    "        print(f\"{user_input} is divisible by 2.\")\n",
    "    else:\n",
    "        print(f\"{user_input} is not divisible by 2.\")\n",
    "\n",
    "# Call the function\n",
    "check_divisible_by_two()"
   ]
  },
  {
   "cell_type": "markdown",
   "metadata": {},
   "source": [
    "Hack 1 for 3.8 Homework"
   ]
  },
  {
   "cell_type": "code",
   "execution_count": 2,
   "metadata": {},
   "outputs": [
    {
     "name": "stdout",
     "output_type": "stream",
     "text": [
      "The factorial of 10 is 3628800. That's quite a large number!\n"
     ]
    }
   ],
   "source": [
    "# Function to calculate factorial using recursion\n",
    "def factorial(n):\n",
    "    # Handle edge cases: negative numbers and non-integer inputs\n",
    "    if not isinstance(n, int):\n",
    "        return \"Error: Input must be an integer.\"\n",
    "    elif n < 0:\n",
    "        return \"Error: Factorial is not defined for negative numbers.\"\n",
    "\n",
    "    # Base case: factorial of 0 or 1 is 1\n",
    "    if n == 0 or n == 1:\n",
    "        return 1\n",
    "    else:\n",
    "        # Recursive case: n! = n * (n-1)!\n",
    "        return n * factorial(n - 1)\n",
    "\n",
    "# Get user input for the number\n",
    "try:\n",
    "    user_input = int(input(\"Enter a number between 9 and 13 to find its factorial: \"))\n",
    "    \n",
    "    # Check if the number is within the allowed range\n",
    "    if 9 <= user_input <= 13:\n",
    "        # Calculate the factorial\n",
    "        result = factorial(user_input)\n",
    "        # Print a custom message with the result\n",
    "        print(f\"The factorial of {user_input} is {result}. That's quite a large number!\")\n",
    "    else:\n",
    "        print(\"Please enter a number between 9 and 13.\")\n",
    "except ValueError:\n",
    "    print(\"Error: Please enter a valid integer.\")"
   ]
  },
  {
   "cell_type": "markdown",
   "metadata": {},
   "source": [
    "Hack 2 For 3.8 Homework"
   ]
  },
  {
   "cell_type": "code",
   "execution_count": 3,
   "metadata": {},
   "outputs": [
    {
     "name": "stdout",
     "output_type": "stream",
     "text": [
      "1\n",
      "2\n",
      "3\n",
      "3.141\n",
      "4\n",
      "5\n"
     ]
    }
   ],
   "source": [
    "# listing out numbers\n",
    "numbers = [1, 2, 3, 3.141, 4, 5]\n",
    "# Looping through the list in order to then print the numbers out\n",
    "for number in numbers:\n",
    "    print(number)"
   ]
  }
 ],
 "metadata": {
  "kernelspec": {
   "display_name": "venv",
   "language": "python",
   "name": "python3"
  },
  "language_info": {
   "codemirror_mode": {
    "name": "ipython",
    "version": 3
   },
   "file_extension": ".py",
   "mimetype": "text/x-python",
   "name": "python",
   "nbconvert_exporter": "python",
   "pygments_lexer": "ipython3",
   "version": "3.12.3"
  }
 },
 "nbformat": 4,
 "nbformat_minor": 2
}
