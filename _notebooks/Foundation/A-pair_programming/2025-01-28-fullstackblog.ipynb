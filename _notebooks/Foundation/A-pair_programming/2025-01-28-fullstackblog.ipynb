{
 "cells": [
  {
   "cell_type": "markdown",
   "metadata": {
    "vscode": {
     "languageId": "plaintext"
    }
   },
   "source": [
    "---\n",
    "layout: post\n",
    "title: Full Stack Blog\n",
    "description: a blog containing my journey to being a full stack developer.\n",
    "type: issues\n",
    "comments: true\n",
    "permalink: /fullstackblog\n",
    "---"
   ]
  },
  {
   "cell_type": "markdown",
   "metadata": {},
   "source": [
    "## Imputs and Outputs\n",
    "\n",
    "On my frontend page \"weatherstatic\", users are able to click on serparete tabs to view weather information about certain locations. The page contains a button to delete weather, a section to add a new location with its data, and one to update the page at the very bottom. The delte allows teh user to remove a location that is unneeded or perhaps incorect, and add weather which adds a new location to the table with new data displayed in the frontend table and the backend database."
   ]
  },
  {
   "cell_type": "markdown",
   "metadata": {},
   "source": [
    "<img src=\"images/portfolioimg/imputsandoutputs.jpg\"\n",
    "  alt= \"outputs and inputs\" />"
   ]
  },
  {
   "cell_type": "markdown",
   "metadata": {},
   "source": [
    "## Read/create:"
   ]
  },
  {
   "cell_type": "code",
   "execution_count": null,
   "metadata": {},
   "outputs": [],
   "source": [
    "# api folder portion \n",
    "def post(self):\n",
    "        \"\"\"\n",
    "        Create a new Weather entry from JSON payload.\n",
    "        Expected JSON fields:\n",
    "          name, temperature, feelslike, humidity,\n",
    "          pressure, windspeed, winddirection\n",
    "        \"\"\"\n",
    "        try:\n",
    "            data = request.get_json()\n",
    "            new_weather = Weather(\n",
    "                name=data['name'],\n",
    "                temperature=data['temperature'],\n",
    "                feelslike=data['feelslike'],\n",
    "                humidity=data['humidity'],\n",
    "                pressure=data['pressure'],\n",
    "                windspeed=data['windspeed'],\n",
    "                winddirection=data['winddirection']\n",
    "            )\n",
    "            new_weather.create()\n",
    "            return new_weather.read(), 201\n",
    "        except Exception as e:\n",
    "            return {\"error\": str(e)}, 400"
   ]
  },
  {
   "cell_type": "code",
   "execution_count": null,
   "metadata": {},
   "outputs": [],
   "source": [
    "# model folder portion\n",
    "def create(self):\n",
    "        \"\"\"Insert this Weather entry into the database.\"\"\"\n",
    "        try:\n",
    "            db.session.add(self)\n",
    "            db.session.commit()\n",
    "        except Exception as e:\n",
    "            db.session.rollback()\n",
    "            logging.warning(f\"Error creating weather: {str(e)}\")\n",
    "            return None\n",
    "        return self"
   ]
  },
  {
   "cell_type": "markdown",
   "metadata": {},
   "source": [
    "<img src=\"images/portfolioimg/imputadd.jpg\"\n",
    "  alt= \"outputs and inputs\" />\n",
    "<img src=\"images/portfolioimg/outputout.jpg\"\n",
    "  alt= \"outputs and inputs\" />"
   ]
  },
  {
   "cell_type": "markdown",
   "metadata": {},
   "source": [
    "## Delete:"
   ]
  },
  {
   "cell_type": "code",
   "execution_count": null,
   "metadata": {},
   "outputs": [],
   "source": [
    "# model file\n",
    "def read(self):\n",
    "        \"\"\"Return a dict representation of this record.\"\"\"\n",
    "        return {\n",
    "            'id': self.id,\n",
    "            'name': self.name,\n",
    "            'temperature': self.temperature,\n",
    "            'feelslike': self.feelslike,\n",
    "            'humidity': self.humidity,\n",
    "            'pressure': self.pressure,\n",
    "            'windspeed': self.windspeed,\n",
    "            'winddirection': self.winddirection\n",
    "        }\n",
    "\n",
    "# api file\n",
    "def delete(self):\n",
    "        \"\"\"\n",
    "        Delete a Weather entry by 'id'.\n",
    "        Expected JSON field: 'id'.\n",
    "        \"\"\"\n",
    "        try:\n",
    "            data = request.get_json()\n",
    "            weather_id = data.get('id')\n",
    "            if weather_id is None:\n",
    "                return {\"error\": \"Missing 'id' in request\"}, 400\n",
    "\n",
    "            weather = Weather.query.get(weather_id)\n",
    "            if weather:\n",
    "                weather.delete()\n",
    "                return {\"message\": f\"Successfully deleted Weather with ID {weather_id}\"}, 200\n",
    "            else:\n",
    "                return {\"error\": f\"Weather with ID {weather_id} not found\"}, 404\n",
    "        except Exception as e:\n",
    "            return {\"error\": str(e)}, 400"
   ]
  }
 ],
 "metadata": {
  "kernelspec": {
   "display_name": "venv",
   "language": "python",
   "name": "python3"
  },
  "language_info": {
   "codemirror_mode": {
    "name": "ipython",
    "version": 3
   },
   "file_extension": ".py",
   "mimetype": "text/x-python",
   "name": "python",
   "nbconvert_exporter": "python",
   "pygments_lexer": "ipython3",
   "version": "3.12.3"
  }
 },
 "nbformat": 4,
 "nbformat_minor": 2
}
