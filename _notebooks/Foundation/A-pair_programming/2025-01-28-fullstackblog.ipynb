{
 "cells": [
  {
   "cell_type": "markdown",
   "metadata": {
    "vscode": {
     "languageId": "plaintext"
    }
   },
   "source": [
    "---\n",
    "layout: post\n",
    "title: Full Stack Blog\n",
    "description: a blog containing my journey to being a full stack developer.\n",
    "type: issues\n",
    "comments: true\n",
    "permalink: /fullstackblog\n",
    "---"
   ]
  },
  {
   "cell_type": "markdown",
   "metadata": {},
   "source": [
    "## Imputs and Outputs\n",
    "\n",
    "On my frontend page \"weatherstatic\", users are able to click on serparete tabs to view weather information about certain locations. The page contains a button to delete weather, a section to add a new location with its data, and one to update the page at the very bottom. The delte allows teh user to remove a location that is unneeded or perhaps incorect, and add weather which adds a new location to the table with new data displayed in the frontend table and the backend database."
   ]
  },
  {
   "cell_type": "markdown",
   "metadata": {},
   "source": [
    "<img src=\"images/portfolioimg/imputsandoutputs.jpg\"\n",
    "  alt= \"outputs and inputs\" />"
   ]
  },
  {
   "cell_type": "markdown",
   "metadata": {},
   "source": [
    "## Read/create:"
   ]
  },
  {
   "cell_type": "code",
   "execution_count": null,
   "metadata": {},
   "outputs": [],
   "source": [
    "# api folder portion \n",
    "def post(self):\n",
    "        \"\"\"\n",
    "        Create a new Weather entry from JSON payload.\n",
    "        Expected JSON fields:\n",
    "          name, temperature, feelslike, humidity,\n",
    "          pressure, windspeed, winddirection\n",
    "        \"\"\"\n",
    "        try:\n",
    "            data = request.get_json()\n",
    "            new_weather = Weather(\n",
    "                name=data['name'],\n",
    "                temperature=data['temperature'],\n",
    "                feelslike=data['feelslike'],\n",
    "                humidity=data['humidity'],\n",
    "                pressure=data['pressure'],\n",
    "                windspeed=data['windspeed'],\n",
    "                winddirection=data['winddirection']\n",
    "            )\n",
    "            new_weather.create()\n",
    "            return new_weather.read(), 201\n",
    "        except Exception as e:\n",
    "            return {\"error\": str(e)}, 400"
   ]
  },
  {
   "cell_type": "code",
   "execution_count": null,
   "metadata": {},
   "outputs": [],
   "source": [
    "# model folder portion\n",
    "def create(self):\n",
    "        \"\"\"Insert this Weather entry into the database.\"\"\"\n",
    "        try:\n",
    "            db.session.add(self)\n",
    "            db.session.commit()\n",
    "        except Exception as e:\n",
    "            db.session.rollback()\n",
    "            logging.warning(f\"Error creating weather: {str(e)}\")\n",
    "            return None\n",
    "        return self"
   ]
  },
  {
   "cell_type": "markdown",
   "metadata": {},
   "source": [
    "<img src=\"images/portfolioimg/imputadd.jpg\"\n",
    "  alt= \"outputs and inputs\" />\n",
    "<img src=\"images/portfolioimg/outputout.jpg\"\n",
    "  alt= \"outputs and inputs\" />"
   ]
  },
  {
   "cell_type": "markdown",
   "metadata": {},
   "source": [
    "## Delete:"
   ]
  },
  {
   "cell_type": "code",
   "execution_count": null,
   "metadata": {},
   "outputs": [],
   "source": [
    "# model file\n",
    "def read(self):\n",
    "        \"\"\"Return a dict representation of this record.\"\"\"\n",
    "        return {\n",
    "            'id': self.id,\n",
    "            'name': self.name,\n",
    "            'temperature': self.temperature,\n",
    "            'feelslike': self.feelslike,\n",
    "            'humidity': self.humidity,\n",
    "            'pressure': self.pressure,\n",
    "            'windspeed': self.windspeed,\n",
    "            'winddirection': self.winddirection\n",
    "        }\n",
    "\n",
    "# api file\n",
    "def delete(self):\n",
    "        \"\"\"\n",
    "        Delete a Weather entry by 'id'.\n",
    "        Expected JSON field: 'id'.\n",
    "        \"\"\"\n",
    "        try:\n",
    "            data = request.get_json()\n",
    "            weather_id = data.get('id')\n",
    "            if weather_id is None:\n",
    "                return {\"error\": \"Missing 'id' in request\"}, 400\n",
    "\n",
    "            weather = Weather.query.get(weather_id)\n",
    "            if weather:\n",
    "                weather.delete()\n",
    "                return {\"message\": f\"Successfully deleted Weather with ID {weather_id}\"}, 200\n",
    "            else:\n",
    "                return {\"error\": f\"Weather with ID {weather_id} not found\"}, 404\n",
    "        except Exception as e:\n",
    "            return {\"error\": str(e)}, 400"
   ]
  },
  {
   "cell_type": "markdown",
   "metadata": {},
   "source": [
    "## Backend Work\n",
    "Within the backend I had several functionalities included thoughout:\n",
    "API Endpoints: I was able to create endpoints which are reponsible for handling user submissions, seen below.\n",
    "Post request: A request to accept new recommendations adding to the current data\n",
    "Get request: a request to retrieve all submitted data for display on the frontend\n",
    "\n",
    "## Database Integration:\n",
    " These pieces of data are stored in a database table, and includes each ones specific details in addition to their own unique ID and location name present, along with temperature, feelslike, air pressure, windspeed, humidity, and wind direction.\n",
    "Each database entry has error codes to ensure that there are no empty submissions within database entries\n",
    "\n",
    "## Error Handling: \n",
    "Added checks to detect valid imputs for the user, anything other than spaces or invalid characters.\n",
    "Error responses are also present in order to communicate an error or issue to the frontend.\n",
    "\n",
    "## Seemless operation\n",
    "\n",
    "Using postmen I was able to test several API request using postmen to confirming that the backend was correctly reciveing and processing incoming data.\n",
    "I also verfied the presense of updated frontend apon imputed user content and that showing within the datatable in the backend also.\n",
    "\n",
    "## Team Collaboration\n",
    "\n",
    "Initally our team lacked several parts of our collaborative ablities, but once we can to the realization each of us had some knoledge or understanding of what each other wanted we discussed several different features and were able to streamline the process for each indidvudal compelting their work more effectivley. Specfically recently we were able to change something mentioned in the last few review the python uri was not included and cors() was being used in its place which casused several issues our team collaborated together and were able to remove cors and successfuly integrate python uri into the preexisting code with minor tweaks. \n",
    "I coordinated with my teammates in handling overall decisons such as orgaization and usage of our apis and databases being in similar foramts to one another to enhance understanding. \n",
    "Our group held test together for each of us to ensure or features were working to their fullest capacity.\n",
    "During our meetings we would also work together to create new and diffrent functionality and style within our project. \n",
    "\n",
    "## Live Demo Plan\n",
    "In the review, I plan to show live interations between different functionalities. \n",
    "\n",
    "I plan to do this using the frontend to add a new locations and submit it creating a new location. \n",
    "I will show how it was sent to the backend via a POST request and will show it being to the database both in frontend and backend.\n",
    "\n",
    "I will refresh the page and retrieve data with a GET request in postman to show a collection of all of the data from the database, with current updates.\n",
    "\n",
    "I will use postman to show raw API request and outputs incling the error handling and invalid entries in the frontend.\n",
    "\n",
    "## Technical Highlights:\n",
    "\n",
    "Using SQLalchemy to show database existing locations, add new entries and retrieve all recomendations/data pieces.\n",
    "\n",
    "Converting each row into JSON format for the frontend data to display properly and show each row and reach collum of data properly.\n",
    "\n",
    "## API Methods:\n",
    "\n",
    "POST: Accepts the data from the form and stores it within the database\n",
    "\n",
    "GET: Fetches all stored data and sends it to the frontend with JSON format then displayed in a table.\n",
    "\n",
    "## Error Response Ex:\n",
    "\n",
    "If a user imputs a invalid or empty field it says fill in all fields.\n"
   ]
  },
  {
   "cell_type": "code",
   "execution_count": null,
   "metadata": {},
   "outputs": [],
   "source": [
    "  for item in data:\n",
    "                existing_weather = Weather.query.filter_by(\n",
    "                    name=item['name'],\n",
    "                    temperature=item['temperature'],\n",
    "                    feelslike=item['feelslike'],\n",
    "                    humidity=item['humidity'],\n",
    "                    pressure=item['pressure'],\n",
    "                    windspeed=item['windspeed'],\n",
    "                    winddirection=item['winddirection']\n",
    "                ).first()\n",
    "\n",
    "                if not existing_weather:\n",
    "                    weather = Weather(\n",
    "                        name=item['name'],\n",
    "                        temperature=item['temperature'],\n",
    "                        feelslike=item['feelslike'],\n",
    "                        humidity=item['humidity'],\n",
    "                        pressure=item['pressure'],\n",
    "                        windspeed=item['windspeed'],\n",
    "                        winddirection=item['winddirection']\n",
    "                    )\n",
    "                    db.session.add(weather)\n",
    "\n",
    "            db.session.commit()"
   ]
  },
  {
   "cell_type": "markdown",
   "metadata": {},
   "source": [
    "NEEDS SOME TWEAKS, Method shown above contains data validation and processing, slection, it does this by verifiying if the data already has an entry.\n",
    "\n",
    "## Tablename:\n",
    "The tablename as a database is definied as weathers and contains, an id:(primary key) which is a unique idenifier, a name: (255 character limit string) for each location or city, temperature, feelslike, humidity, pressurem windspeed, and windirection all falling under the categories of being strings. So a row collum for each condition of the weather. Each field is required for a succesful request.\n",
    "\n",
    "## Next Steps:\n",
    " I plan to enchance and develop the frontend to be more pleasing to the user, have confirmation messages, devlop more detailed duplicate error messages.\n",
    "\n",
    " Work with my team to refine our overall presentation of our site to better the user experince. \n",
    "\n",
    "## Conclusion:\n",
    "\n",
    "This feature has been a valuable part of the project, teaching me new things that have shown be value in collaboration and unique user interations. By showing this data is streamlines well with several other features present in the city with the map and quiz complementing each other features also."
   ]
  },
  {
   "cell_type": "code",
   "execution_count": null,
   "metadata": {},
   "outputs": [],
   "source": [
    "    def post(self):\n",
    "        \"\"\"\n",
    "        Create a new Weather entry from JSON payload.\n",
    "        Expected JSON fields:\n",
    "          name, temperature, feelslike, humidity,\n",
    "          pressure, windspeed, winddirection\n",
    "        \"\"\"\n",
    "        try:\n",
    "            data = request.get_json()\n",
    "            new_weather = Weather(\n",
    "                name=data['name'],\n",
    "                temperature=data['temperature'],\n",
    "                feelslike=data['feelslike'],\n",
    "                humidity=data['humidity'],\n",
    "                pressure=data['pressure'],\n",
    "                windspeed=data['windspeed'],\n",
    "                winddirection=data['winddirection']\n",
    "            )\n",
    "            new_weather.create()\n",
    "            return new_weather.read(), 201\n",
    "        except Exception as e:\n",
    "            return {\"error\": str(e)}, 400\n",
    "\n",
    "    def delete(self):\n",
    "        \"\"\"\n",
    "        Delete a Weather entry by 'id'.\n",
    "        Expected JSON field: 'id'.\n",
    "        \"\"\"\n",
    "        try:\n",
    "            data = request.get_json()\n",
    "            weather_id = data.get('id')\n",
    "            if weather_id is None:\n",
    "                return {\"error\": \"Missing 'id' in request\"}, 400\n",
    "\n",
    "            weather = Weather.query.get(weather_id)\n",
    "            if weather:\n",
    "                weather.delete()\n",
    "                return {\"message\": f\"Successfully deleted Weather with ID {weather_id}\"}, 200\n",
    "            else:\n",
    "                return {\"error\": f\"Weather with ID {weather_id} not found\"}, 404\n",
    "        except Exception as e:\n",
    "            return {\"error\": str(e)}, 400\n",
    "\n",
    "\n",
    "@weather_api.route('/weathers/init', methods=['POST'])\n",
    "def weather_init():\n",
    "    \"\"\"\n",
    "    OPTIONAL endpoint:\n",
    "    Re-create the 'weathers' table (if needed) and seed with default data.\n",
    "    Call via POST /api/weathers/init\n",
    "    \"\"\"\n",
    "    try:\n",
    "        initWeather()\n",
    "        return {\"message\": \"Weather table initialized with default data\"}, 201\n",
    "    except Exception as e:\n",
    "        return {\"error\": str(e)}, 500\n",
    "\n",
    "\n",
    "api.add_resource(WeatherAPI, '/weathers')"
   ]
  },
  {
   "cell_type": "code",
   "execution_count": null,
   "metadata": {},
   "outputs": [],
   "source": [
    "def initWeather():\n",
    "    \"\"\"\n",
    "    The initWeather function creates the Weather table (if it doesn't exist)\n",
    "    and adds tester data to the table.\n",
    "    \"\"\"\n",
    "    try:\n",
    "        db.create_all()\n",
    "        # Add tester data\n",
    "        if not Weather.query.first():\n",
    "            weathers = [\n",
    "                Weather(name=\"San Diego\", temperature=\"20°C\", feelslike=\"19°C\", humidity=\"18%\", pressure=\"1021 hPa\", windspeed=\"3.6 m/s\", winddirection=\"300°\"),\n",
    "                Weather(name=\"Tokyo\", temperature=\"5°C\", feelslike=\"4°C\", humidity=\"55%\", pressure=\"1020 hPa\", windspeed=\"1.54 m/s\", winddirection=\"200°\"),\n",
    "                Weather(name=\"Mumbai\", temperature=\"24°C\", feelslike=\"24°C\", humidity=\"60%\", pressure=\"1011 hPa\", windspeed=\"1.37 m/s\", winddirection=\"100°\"),\n",
    "                Weather(name=\"Cairo\", temperature=\"14°C\", feelslike=\"14°C\", humidity=\"72%\", pressure=\"1020 hPa\", windspeed=\"0.51 m/s\", winddirection=\"90°\"),\n",
    "                Weather(name=\"Lagos\", temperature=\"24°C\", feelslike=\"25°C\", humidity=\"84%\", pressure=\"1009 hPa\", windspeed=\"1.72 m/s\", winddirection=\"233°\"),\n",
    "                Weather(name=\"London\", temperature=\"4°C\", feelslike=\"1°C\", humidity=\"86%\", pressure=\"1037 hPa\", windspeed=\"2.68 m/s\", winddirection=\"259°\"),\n",
    "                Weather(name=\"Paris\", temperature=\"-1°C\", feelslike=\"-4°C\", humidity=\"85%\", pressure=\"1039 hPa\", windspeed=\"2.06 m/s\", winddirection=\"350°\"),\n",
    "                Weather(name=\"New York City\", temperature=\"5°C\", feelslike=\"1°C\", humidity=\"53%\", pressure=\"1013 hPa\", windspeed=\"5.14 m/s\", winddirection=\"260°\"),\n",
    "                Weather(name=\"Mexico City\", temperature=\"23°C\", feelslike=\"22°C\", humidity=\"29%\", pressure=\"1012 hPa\", windspeed=\"1.34 m/s\", winddirection=\"70°\"),\n",
    "                Weather(name=\"Sao Paulo\", temperature=\"19°C\", feelslike=\"19°C\", humidity=\"79%\", pressure=\"1012 hPa\", windspeed=\"6.17 m/s\", winddirection=\"160°\")\n",
    "            ]\n",
    "            for weather in weathers:\n",
    "                weather.create()\n",
    "            logging.info(\"Weather table initialized and seeded.\")\n",
    "    except Exception as e:\n",
    "        logging.error(f\"Error initializing Weather table: {e}\")\n",
    "        raise e"
   ]
  },
  {
   "cell_type": "markdown",
   "metadata": {},
   "source": [
    "## 1. List Request as Rows, and Dictionaries as Collums\n",
    "Within your present API, lists  are present as rows within your database table, and dictionaries represent the collumns in the database. Each present record(or row) corresponds with a unique weather location, and each of its attributes (id, name, temperature, feelslike, wind direction, windspeed, pressure, and humidity) are seen as key-value pairs within a directory.\n",
    " - List Request:\n",
    "When you make a request to the endpoint (api/weathers), it should return a list of all weather locations in JSON format. This list contains dictionaries where each dictionairy represents a singular weather with keys as collum names(id, name, temperature, feelslike, wind direction, windspeed, pressure, and humidity).\n",
    "\n",
    "## 2. Code Descriptions\n",
    "\n",
    "In the WeatherAPI class, the get() method retrieves all weather records:"
   ]
  },
  {
   "cell_type": "code",
   "execution_count": null,
   "metadata": {},
   "outputs": [],
   "source": [
    "class WeatherAPI(Resource):\n",
    "    \"\"\"\n",
    "    A RESTful API for handling Weather resources.\n",
    "    Supports GET (all), POST (create), and DELETE (by id).\n",
    "    \"\"\"\n",
    "\n",
    "    def get(self):\n",
    "        \"\"\"\n",
    "        Retrieve all Weather records from the database.\n",
    "        \"\"\"\n",
    "        try:\n",
    "            weathers = Weather.query.all()\n",
    "            # Return a list of dicts; Flask-RESTful will handle JSON conversion\n",
    "            return [weather.read() for weather in weathers], 200\n",
    "        except Exception as e:\n",
    "            return {\"error\": str(e)}, 500"
   ]
  },
  {
   "cell_type": "markdown",
   "metadata": {},
   "source": [
    "- Weather.query.all(): This method retrieves all weather records form the database as a list(rows w/ data)\n",
    "- weather.query(): Each weather object is converted into a dictionary which is then represeted as an attribute within collums.\n",
    "\n",
    "## 3. Formatting Response Data (Json)\n",
    "\n",
    "Whenn the API Responds to a request, it formats all the present data in JSON, which is suitable for communication between a server and the client:"
   ]
  },
  {
   "cell_type": "code",
   "execution_count": null,
   "metadata": {},
   "outputs": [],
   "source": [
    "[\n",
    "    {\n",
    "        \"id\": 1,\n",
    "        \"name\": \"San Diego\",\n",
    "        \"temperature\": \"20°C\",\n",
    "        \"feelslike\": \"19°C\",\n",
    "        \"humidity\": \"18%\",\n",
    "        \"pressure\": \"1021 hPa\",\n",
    "        \"windspeed\": \"3.6 m/s\",\n",
    "        \"winddirection\": \"300°\"\n",
    "    },\n",
    "    {\n",
    "        \"id\": 2,\n",
    "        \"name\": \"Tokyo\",\n",
    "        \"temperature\": \"5°C\",\n",
    "        \"feelslike\": \"4°C\",\n",
    "        \"humidity\": \"55%\",\n",
    "        \"pressure\": \"1020 hPa\",\n",
    "        \"windspeed\": \"1.54 m/s\",\n",
    "        \"winddirection\": \"200°\"\n",
    "    }\n",
    "]"
   ]
  },
  {
   "cell_type": "markdown",
   "metadata": {},
   "source": [
    "- This JSON structure makes it easy to maniputate and dispaly data within the frontend, where each weather obkect present can be rendered in the DOM using JavaScript.\n",
    "\n",
    "## 4. Database Queires and Python Lists\n",
    "\n",
    "Your present code uses SQLAlchemy, which is a third party library, to interact with the database. The weather.query.all() method retrives all weathers as a list of objects."
   ]
  },
  {
   "cell_type": "code",
   "execution_count": 3,
   "metadata": {},
   "outputs": [
    {
     "ename": "NameError",
     "evalue": "name 'Resource' is not defined",
     "output_type": "error",
     "traceback": [
      "\u001b[0;31m---------------------------------------------------------------------------\u001b[0m",
      "\u001b[0;31mNameError\u001b[0m                                 Traceback (most recent call last)",
      "Cell \u001b[0;32mIn[3], line 1\u001b[0m\n\u001b[0;32m----> 1\u001b[0m \u001b[38;5;28;01mclass\u001b[39;00m \u001b[38;5;21;01mWeatherAPI\u001b[39;00m(\u001b[43mResource\u001b[49m):\n\u001b[1;32m      2\u001b[0m \u001b[38;5;250m    \u001b[39m\u001b[38;5;124;03m\"\"\"\u001b[39;00m\n\u001b[1;32m      3\u001b[0m \u001b[38;5;124;03m    A RESTful API for handling Weather resources.\u001b[39;00m\n\u001b[1;32m      4\u001b[0m \u001b[38;5;124;03m    Supports GET (all), POST (create), and DELETE (by id).\u001b[39;00m\n\u001b[1;32m      5\u001b[0m \u001b[38;5;124;03m    \"\"\"\u001b[39;00m\n\u001b[1;32m      7\u001b[0m     \u001b[38;5;28;01mdef\u001b[39;00m \u001b[38;5;21mget\u001b[39m(\u001b[38;5;28mself\u001b[39m):\n",
      "\u001b[0;31mNameError\u001b[0m: name 'Resource' is not defined"
     ]
    }
   ],
   "source": [
    "class WeatherAPI(Resource):\n",
    "    \"\"\"\n",
    "    A RESTful API for handling Weather resources.\n",
    "    Supports GET (all), POST (create), and DELETE (by id).\n",
    "    \"\"\"\n",
    "\n",
    "    def get(self):\n",
    "        \"\"\"\n",
    "        Retrieve all Weather records from the database.\n",
    "        \"\"\"\n",
    "        try:\n",
    "            weathers = Weather.query.all()\n",
    "            return [weather.read() for weather in weathers], 200\n",
    "        except Exception as e:\n",
    "            return {\"error\": str(e)}, 500"
   ]
  },
  {
   "cell_type": "markdown",
   "metadata": {},
   "source": [
    "- This example returns a Python list where each present element is an isnteance of the weather class, representing a present row in the database.\n",
    "\n",
    "### Explanation of how I formated JSON Data into the DOM\n",
    "1. Fetching JSON Data:\n",
    "    - You initiate data retrival from backend using \"fetch\" API. Using a button on the frontend you can either individually fetch each of the weather locations or you can view them in a table all at once fetching the entire database as a list. Using the button is makes an asynchronous request to the API endpoint that returns the weather data in JSON format.\n",
    "\n",
    "<img src=\"images/portfolioimg/pythonuri.jpg\"\n",
    "  alt= \"outputs and inputs\" />\n",
    "\n",
    "### 1. Parsing JSON Data:\n",
    "  - After fetching the data I parse the JSON using a  \n",
    "   \"response.json();\" to then convert JSON into Javascript object.\n",
    "\n",
    "### 2. Clearing Existing COntent:\n",
    "  - Before inserting new data, I clean any existing rows in the tables to ensure that display data is refreshed and accurate w/ code snippet:"
   ]
  },
  {
   "cell_type": "code",
   "execution_count": null,
   "metadata": {},
   "outputs": [],
   "source": [
    "function createTabs(weatherArray) {\n",
    "    const tabsContainer = document.getElementById(\"tabs\");\n",
    "    const contentSection = document.getElementById(\"contentSection\");\n",
    "\n",
    "    // Clear old content\n",
    "    tabsContainer.innerHTML = \"\";\n",
    "    contentSection.innerHTML = \"\";"
   ]
  },
  {
   "cell_type": "markdown",
   "metadata": {},
   "source": [
    "### 3. Creating HTML Elements:\n",
    "- Then I loop throught the array of locations from JSON data to create a new table row for each location. Within Each row I create columns for the locations id, name, feelslike, temeperature, humidity, pressure, windspeed, winddirection and delete button included.\n",
    "\n",
    "<img src=\"images/portfolioimg/tabelcreation.jpg\"\n",
    "  alt= \"outputs and inputs\" />"
   ]
  },
  {
   "cell_type": "markdown",
   "metadata": {},
   "source": [
    "1. Appending to the DOM:\n",
    "- Finally, each contructed row is appended to the table body, effectively updating the DOM with the new data with the code snippet:"
   ]
  },
  {
   "cell_type": "code",
   "execution_count": null,
   "metadata": {},
   "outputs": [],
   "source": [
    "tableBody.appendChild(tr);"
   ]
  },
  {
   "cell_type": "markdown",
   "metadata": {},
   "source": [
    "2. Handling User Actions:\n",
    "-  Buttons for updating and deleting locatiosna re dynamically created. When clicked, they trigger coreessponding functions taht handle the necesary operations, ensuring that the UI remains in sync with backend data.\n",
    "\n",
    "### CRUD Methods in the \"Weather\" Class\n",
    "1. Create(\"create\" method):\\\n",
    "- purpose: This method is used for adding a new locaiton with weather data to the database.\n",
    "- Functionality:\n",
    "    - It attempts to add the current instance of a location w/ self to the database session.\n",
    "    - It then commits the session to then save the changes.\n",
    "    - If a error happens there is a catcjh that rolls back the session to prevent data partial or non-conformant data from being saved and logs giving a warning\n",
    "    - Returns the instance of the location if succesful or an error if a problem happened"
   ]
  },
  {
   "cell_type": "code",
   "execution_count": null,
   "metadata": {},
   "outputs": [],
   "source": [
    "def create(self):\n",
    "        \"\"\"Insert this Weather entry into the database.\"\"\"\n",
    "        try:\n",
    "            db.session.add(self)\n",
    "            db.session.commit()\n",
    "        except Exception as e:\n",
    "            db.session.rollback()\n",
    "            logging.warning(f\"Error creating weather: {str(e)}\")\n",
    "            return None\n",
    "        return self"
   ]
  },
  {
   "cell_type": "markdown",
   "metadata": {},
   "source": [
    "1. Read (\"read\" method):\n",
    "    - Purpose: This method returns the details of the book as a dictionary.\n",
    "    - Functionality\n",
    "        - It it then creates a dictionary containing the book's \"id\" and \"title\", allowing for easy sertialization to JSON when needed."
   ]
  },
  {
   "cell_type": "code",
   "execution_count": null,
   "metadata": {},
   "outputs": [],
   "source": [
    "def read(self):\n",
    "        \"\"\"Return a dict representation of this record.\"\"\"\n",
    "        return {\n",
    "            'id': self.id,\n",
    "            'name': self.name,\n",
    "            'temperature': self.temperature,\n",
    "            'feelslike': self.feelslike,\n",
    "            'humidity': self.humidity,\n",
    "            'pressure': self.pressure,\n",
    "            'windspeed': self.windspeed,\n",
    "            'winddirection': self.winddirection\n",
    "        }\n"
   ]
  },
  {
   "cell_type": "markdown",
   "metadata": {},
   "source": [
    "1. Update(\"update\" method):\n",
    "- Purpose: This method updates the attributes of the location and new data commits the changes to the database.\n",
    "- functionality:\n",
    "    - It checks if the location of the weather eexist and raises and error if it dosnt exist\n",
    "    - It iterate the current data in the dictionary passed to teh method, checking if each individual key corresponds to an attribute of the \"Weather\" class. If it does it updates the attribute using \"setattr\".\n",
    "    - after updating, it commits the changes and saves them.\n",
    "    - if an error occurs it rolls back the session and raises an error for futhur handeling"
   ]
  },
  {
   "cell_type": "code",
   "execution_count": null,
   "metadata": {},
   "outputs": [],
   "source": [
    "def update(self, date)\n",
    "    \"\"\"\n",
    "    Update the Weather entry with the given 'id' with the new data.\n",
    "    \"\"\"\n",
    "    if not self:\n",
    "        raise ValueError(\"Weather not found\")\n",
    "    for key, value in data.items():\n",
    "        if hasattr(self, key):\n",
    "            setattr(self, key, value)\n",
    "    try:\n",
    "        db.session.commit()\n",
    "    except Exception as e:\n",
    "        db.session.rollback()\n",
    "        logging.warning(f\"Error updating weather: {str(e)}\")\n",
    "        raise e"
   ]
  },
  {
   "cell_type": "markdown",
   "metadata": {},
   "source": [
    "#### 1. Delete (“delete” method):\n",
    "- Purpose: This method deletes the weather entry from the database.\n",
    "- Functionality:\n",
    "    - It attempts to remove the weather instance from the session and commits the changes to the database.\n",
    "    - If an error occurs during this process, it rolls back the session and raises the error to then have more handeling."
   ]
  },
  {
   "cell_type": "code",
   "execution_count": null,
   "metadata": {},
   "outputs": [],
   "source": [
    " def delete(self):\n",
    "        \"\"\"Delete this Weather from the database.\"\"\"\n",
    "        try:\n",
    "            db.session.delete(self)\n",
    "            db.session.commit()\n",
    "        except Exception as e:\n",
    "            db.session.rollback()\n",
    "            logging.warning(f\"Error deleting weather: {str(e)}\")\n",
    "            raise e"
   ]
  },
  {
   "cell_type": "markdown",
   "metadata": {},
   "source": [
    "#### 1. Restore (Static Method):\n",
    "- Purpose: Although not a part of the  CRUD operations, the “restore” method is used for re-adding weather locations from given data.\n",
    "- Functionality:\n",
    "    - It iterates through a list of weather data and checks if a weather with the same title already exists in the database.\n",
    "    - If it exists, it updates the weather locations; if not, it creates a new weather instance and calls the “create” method."
   ]
  },
  {
   "cell_type": "code",
   "execution_count": null,
   "metadata": {},
   "outputs": [],
   "source": [
    "@staticmethod\n",
    "    def restore(data):\n",
    "        \"\"\"\n",
    "        Bulk-restore Weather entries from a list of dictionaries.\n",
    "        Typically called if you have a JSON backup.\n",
    "        \"\"\"\n",
    "        try:\n",
    "            for item in data:\n",
    "                existing_weather = Weather.query.filter_by(\n",
    "                    name=item['name'],\n",
    "                    temperature=item['temperature'],\n",
    "                    feelslike=item['feelslike'],\n",
    "                    humidity=item['humidity'],\n",
    "                    pressure=item['pressure'],\n",
    "                    windspeed=item['windspeed'],\n",
    "                    winddirection=item['winddirection']\n",
    "                ).first()"
   ]
  },
  {
   "cell_type": "markdown",
   "metadata": {},
   "source": [
    "#### 2. Discussion of a Method/Procedure in the Class\n",
    "The “post” method in the “WeatherAPI” class illustrates sequencing, selection, and iteration:\n",
    "\n",
    "- Sequencing:   The method executes a sequence of actions to process a weather location creation request: fetching the JSON data, validating the input, checking for duplicates in the database, and attempting to create a new weather location or city.\n",
    "- Selection: The method uses conditional statements (if-else) to check for required fields and errors in data entry, handle existing locations and cities, and catch exceptions during city or location creation.\n",
    "- Iteration: While there’s no explicit iteration in this method, the principles can be seen in similar contexts, such as processing multiple weather or location entries when restoring data."
   ]
  },
  {
   "cell_type": "markdown",
   "metadata": {},
   "source": [
    "#### 3. Parameters and Return Type\n",
    "\n",
    "- Parameters: The “post” method expects a JSON object in the request body containing the weather name. If the request is malformed (missing name), it returns a 400 status code along with an error message.\n",
    "\n",
    "- Return Type: The responses are formatted as JSON using “jsonify”, providing clear and structured data for the client. Successful creation returns the new location or weather details along with a 201 status code:"
   ]
  },
  {
   "cell_type": "code",
   "execution_count": null,
   "metadata": {},
   "outputs": [],
   "source": [
    "return new_weather.read(), 201"
   ]
  },
  {
   "cell_type": "markdown",
   "metadata": {},
   "source": [
    "4. Call to Algorithm Request\n",
    "\n",
    "Definition of Code Block to Make a Request\n",
    "\n",
    "In my frontend code, in the “script” tags, I make requests to the API when users perform certain actions (like creating or listing weather locations as well as deleting a location).\n",
    "\n",
    "Code Snippet for Creating a Book:\n",
    "\n",
    "<img src=\"images/portfolioimg/createweatherbutton.jpg\"\n",
    "  alt= \"outputs and inputs\" />"
   ]
  },
  {
   "cell_type": "markdown",
   "metadata": {},
   "source": [
    "Return/Response from Method with Algorithm\n",
    "\n",
    "The “fetch” method captures the response from the server:"
   ]
  },
  {
   "cell_type": "code",
   "execution_count": null,
   "metadata": {},
   "outputs": [],
   "source": [
    "   .then((response) => {\n",
    "        if (!response.ok) {\n",
    "          throw new Error(\"Error fetching weather data\");\n",
    "        }\n",
    "        return response.json();\n",
    "      })\n",
    "      .then((data) => {\n",
    "        allWeatherData = data;\n",
    "        createTabs(data);\n",
    "        buildWeatherTable(data);\n",
    "      })\n",
    "      .catch((error) => {\n",
    "        console.error(\"Error fetching weather data:\", error);\n",
    "      });\n",
    "  }"
   ]
  },
  {
   "cell_type": "markdown",
   "metadata": {},
   "source": [
    "The code checks the HTTP response status (“response.ok”) to determine if the request was successful. If not, it extracts the error message from the response and displays it.\n",
    "\n",
    "#### 5. Handling Data and Changing Responses\n",
    "\n",
    "My application is designed to manage both normal and error conditions:\n",
    "\n",
    "- Normal Conditions: When a weather location is successfully created, updated, or deleted, the application updates the UI to reflect these changes, providing feedback to the user.\n",
    "\n",
    "- Error Conditions: If there are issues (e.g., missing name, wind pressure, temperature, feelslike temp, existing weather location), the API returns relevant error messages, which the frontend displays. For instance, if a duplicate name is submitted, the response would indicate that the weather location already exists, and the UI reflects this by showing an error message.\n",
    "\n",
    "Example Error Handling in the Update Function:"
   ]
  },
  {
   "cell_type": "code",
   "execution_count": null,
   "metadata": {},
   "outputs": [],
   "source": [
    "function updateWeather(weatherId) {\n",
    "    const newName = prompt(\"Enter new city name:\");\n",
    "    const newTemperature = prompt(\"Enter new temperature:\");\n",
    "    const newFeelsLike = prompt(\"Enter new feels-like temperature:\");\n",
    "    const newHumidity = prompt(\"Enter new humidity:\");\n",
    "    const newPressure = prompt(\"Enter new pressure:\");\n",
    "    const newWindSpeed = prompt(\"Enter new wind speed:\");\n",
    "    const newWindDirection = prompt(\"Enter new wind direction:\");\n",
    "\n",
    "    if (newName && newTemperature && newFeelsLike && newHumidity && newPressure && newWindSpeed && newWindDirection) {\n",
    "        fetch(`http://127.0.0.1:8887/api/weathers/${weatherId}`, {\n",
    "            method: 'PUT',\n",
    "            headers: {\n",
    "                'Content-Type': 'application/json'\n",
    "            },\n",
    "            body: JSON.stringify({\n",
    "                name: newName,\n",
    "                temperature: newTemperature,\n",
    "                feelslike: newFeelsLike,\n",
    "                humidity: newHumidity,\n",
    "                pressure: newPressure,\n",
    "                windspeed: newWindSpeed,\n",
    "                winddirection: newWindDirection\n",
    "            })\n",
    "        })\n",
    "        .then(response => response.json())\n",
    "        .then(data => {\n",
    "            const resultContainer = document.getElementById('resultContainer');\n",
    "            if (data) {\n",
    "                resultContainer.innerHTML = `<p>Weather updated successfully: ${data.name}, ${data.temperature}°C</p>`;\n",
    "                document.getElementById('getAllWeatherButton').click(); // Refresh the weather list\n",
    "            }\n",
    "        })\n",
    "        .catch(error => {\n",
    "            const resultContainer = document.getElementById('resultContainer');\n",
    "            resultContainer.innerHTML = `<p>Error updating weather: ${error.message}</p>`;\n",
    "        });\n",
    "    }\n",
    "}\n"
   ]
  }
 ],
 "metadata": {
  "kernelspec": {
   "display_name": "venv",
   "language": "python",
   "name": "python3"
  },
  "language_info": {
   "codemirror_mode": {
    "name": "ipython",
    "version": 3
   },
   "file_extension": ".py",
   "mimetype": "text/x-python",
   "name": "python",
   "nbconvert_exporter": "python",
   "pygments_lexer": "ipython3",
   "version": "3.12.3"
  }
 },
 "nbformat": 4,
 "nbformat_minor": 2
}
