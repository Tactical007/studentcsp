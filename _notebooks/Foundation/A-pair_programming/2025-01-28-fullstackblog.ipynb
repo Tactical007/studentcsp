{
 "cells": [
  {
   "cell_type": "markdown",
   "metadata": {
    "vscode": {
     "languageId": "plaintext"
    }
   },
   "source": [
    "---\n",
    "layout: post\n",
    "title: Full Stack Blog\n",
    "description: a blog containing my journey to being a full stack developer.\n",
    "type: issues\n",
    "comments: true\n",
    "permalink: /fullstackblog\n",
    "---"
   ]
  },
  {
   "cell_type": "markdown",
   "metadata": {},
   "source": [
    "## Imputs and Outputs\n",
    "\n",
    "On my frontend page \"weatherstatic\", users are able to click on serparete tabs to view weather information about certain locations. The page contains a button to delete weather, a section to add a new location with its data, and one to update the page at the very bottom. The delte allows teh user to remove a location that is unneeded or perhaps incorect, and add weather which adds a new location to the table with new data displayed in the frontend table and the backend database."
   ]
  },
  {
   "cell_type": "markdown",
   "metadata": {},
   "source": [
    "![](../images/portfolioimg/imputsandoutputs.jpg)"
   ]
  }
 ],
 "metadata": {
  "kernelspec": {
   "display_name": "venv",
   "language": "python",
   "name": "python3"
  },
  "language_info": {
   "codemirror_mode": {
    "name": "ipython",
    "version": 3
   },
   "file_extension": ".py",
   "mimetype": "text/x-python",
   "name": "python",
   "nbconvert_exporter": "python",
   "pygments_lexer": "ipython3",
   "version": "3.12.3"
  }
 },
 "nbformat": 4,
 "nbformat_minor": 2
}
