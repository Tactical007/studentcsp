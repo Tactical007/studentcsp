{
 "cells": [
  {
   "cell_type": "markdown",
   "metadata": {
    "vscode": {
     "languageId": "plaintext"
    }
   },
   "source": [
    "---\n",
    "layout: post\n",
    "title: MCQ test corrections\n",
    "description: \n",
    "type: issues\n",
    "comments: true\n",
    "permalink: /mcqcorrections\n",
    "---\n"
   ]
  },
  {
   "cell_type": "markdown",
   "metadata": {},
   "source": [
    "### My score was a 59/66\n",
    "\n",
    "I found the quiz to be extremley challanging and was vastly based on conductive critical thinking. I found that I had trouble with quite a few questions that were typically written in strange ways or questions that simply were very wordy and complex by design. I had a hard time with these questions do the nature of them being confusing and almost non-critical when it came to solutions. There were also some things in some questions I had utterly no clue about so I consulted some of my classmates and had peer disscusion in order to come to certain conclusions during the MCQ. Overall I learned more about certain things I had previously no clue about and I also learned more more about peer collborative disscusion when it came to several topics and multiple specficis with certain processes of elimination in addition to self refrences.\n"
   ]
  },
  {
   "cell_type": "markdown",
   "metadata": {},
   "source": [
    "### Questions & Analytics\n",
    "I got questions 3, 5, 7, 14, 29, 38 and 39 incorrect. Both Q7 and Q38 were examples of evaluating and testing algorithms and programs. In question 7 my answer for quetion 7 was D: for a value of 4 4 this was incorrect due to the value (4) being the final value of the current tag but it was not the final value of the start. Instead the start value should have been 3, I may have gotten the question incorrect due to blindsight or simply misreading the question. For question 38 related to 10th free purchase algorithm, I answered C, my answer was in the right format however I missunderstood what the question was asking and responded with the invese of what it was asking for. It wanted a true response within the code. The seeming explination was a mod 10 count without a not in front of it to indicate the true output, yet my code segment of choice did not set cost to 0 appropriately. Another example such as question 3, related to citizen science, I responded with A an expermient that requires all participants to be working in the same laboratory, this was incorrect. The right answer was C: An experiment that requires data measurements to be taken in many different locations. I got this question wrong because I misunderstood what citizen science was by thinking that the citizen part ment locally sources or apart of the same thing while instead it means distributed over several locations. My change in understanding could have arrived if I had also discussed my findings or my answer with others in CSP to see what they part, although for the most part this question was answered inccorectly due to simply not knowing the correct answer. For the rest of the questions I got wrong they typically werent very related to one another but instead were written in slightly confusing ways or I simply didn't know the topic so Q5, Q14, Q29, and Q39 were not the same question type. For most of them the vast majority of the time I got them wrong due to either not know ing the content which was rarer, missunderstanding the question which was more common, or picking the wrong answer by mistake. To avoid this I typically checked while working with others in CSP what they though about my answers and critqued and broke down all the diffrent options for answers there were. The majourity of my questions that were incorrect were conditionals and crowdsourcing with around 50% total accuracy for them. Although these only account for 2 missed questions of the total 7.\n",
    "\n"
   ]
  },
  {
   "cell_type": "markdown",
   "metadata": {},
   "source": [
    "### Improvements\n",
    "I will improve by taking more practice exams whilst educating myself on the content I didn't know prior to taking the test. I will be able to review several different exams and will discuss with my peers their thoughts on complex questions to deepen my understanding of mcqs for Comp Sci Principles."
   ]
  },
  {
   "cell_type": "markdown",
   "metadata": {},
   "source": [
    "### Question 3: \n",
    "Which of the following would be the best use of citizen science?\n",
    "\n",
    "Wrong answer: An experiment that requires all participants to be working in the same laboratory. My answer was incorrect due to all participants needing to be in different locations, if they were to be in the same locations there would be no need to use a distributed approach for the experiment.\n",
    "\n",
    "Right answer: An experiment that requires data measurements to be taken in many different locations. This is correct due to it taking a distributed approach, having multiple or several locations would also be effective to have distinct data form around the globe.\n",
    "\n"
   ]
  },
  {
   "cell_type": "markdown",
   "metadata": {
    "vscode": {
     "languageId": "plaintext"
    }
   },
   "source": [
    "### Question 5:\n",
    "The ticket prices at a movie theater are given below.\n",
    "A programmer is creating an algorithm to set the value of, ticket Price based on the information in the table. The programmer uses the integer  variable age for the age of the moviegoer. The Boolean variable, is 3 D is true when the movie is 3-D and false otherwise. Which of the following code segments correctly sets the value of One word, ticket Price ?\n",
    "\n",
    "Wrong answer: D I was incorrect due to the segment being set to a ticket price of 17 for all purchasers rather than weather or not it was a 3d movie, I misunderstood the prompt and choose the wrong answer.\n",
    "\n",
    "Right answer: C The correct answer was correctdue to it matching the prompt and having a If(is3d) instead of an else statement."
   ]
  },
  {
   "cell_type": "markdown",
   "metadata": {
    "vscode": {
     "languageId": "plaintext"
    }
   },
   "source": [
    "### Question 7:\n",
    "Consider the following program, which uses the variables start, end, and current. What is displayed as a result of executing the program?\n",
    "\n",
    "Wrong answer: D 4:4 My answer was inccorrect due to the 4 being at final value of the current but it is not the final value of the start.\n",
    "\n",
    "Correct answer: C 3:4 is correct due to it following teh pattern with the final value of 4 for the value current and the final value for 3 of the start."
   ]
  },
  {
   "cell_type": "markdown",
   "metadata": {
    "vscode": {
     "languageId": "plaintext"
    }
   },
   "source": [
    "### Question 14:\n",
    "Consider the two programs below. Which of the following best compares the values displayed by programs A and B?\n",
    "\n",
    "Wrong Answer: Program A and program B display a different number of values. I got this question wrong due to simply being stupid, both programs present the same value of 10 I simply didn't read it.\n",
    "\n",
    "Right Answer: Program A and program B display the same number of values, but the values differ. If I had read the question I would have realized that this right due the final values differing due to the order displayed starting with 1 versus starting with 2."
   ]
  },
  {
   "cell_type": "markdown",
   "metadata": {
    "vscode": {
     "languageId": "plaintext"
    }
   },
   "source": [
    "### Question 29\n",
    "The diagram below shows a circuit composed of three logic gates. Each gate takes two inputs and produces a single output. For which of the following input values will the circuit have an output of false ?\n",
    "\n",
    "Wrong Answer: (C) A equals false, B equals false, C equals true, D equals true. This was inccorect due to these inputs not matching the correct and and or gate producing a true instead of a false for C and D. I also got this answer wrong honestly due to me simply not correctly understanding the prompt, I would like to highlight this question due to me simply having absolutely zero clue what was going on here.\n",
    "\n",
    "Right Answer: (A) A equals true, B equals false, C equals false, D equals false. This was correct due to the imputs of the and gate producing an output of false and the or gate produced a false also. Both inputs to the secound gate will be false, leading the the circuit having a false output."
   ]
  },
  {
   "cell_type": "markdown",
   "metadata": {},
   "source": [
    "### Question 38:\n",
    "A snack bar has a frequent customer program in which every 10th purchase is free. Customers are enrolled in the program when they make their first purchase. A programmer is writing a program to implement the frequent customer program. In one code segment, cost is set to 0 for every 10th purchase by a given customer. The programmer will use the procedure Get Count, (customer I D), which returns the total number of purchases a customer has made since enrolling in the frequent customer program, including his or her first purchase. Which of the following code segments will set cost to 0 for every 10th purchase a customer makes after enrolling in the frequent customer program?\n",
    "\n",
    "Wrong Answer: D My answer was incorrect due to it not evaluating to true, due to it not setting the cost to 0 properly. I got the question wrong due to my misreading of the question thinking that it was talking about infrequency or removal all together.\n",
    "\n",
    "Right Answer: C This was correct due to it properly setting cost=0 and the mod does evaluate to true. This one was more of dumb mistake than anything else, not reading the question right."
   ]
  },
  {
   "cell_type": "markdown",
   "metadata": {},
   "source": [
    "### Question 39:\n",
    "Which of the following explains a benefit of using open standards and protocols for Internet communication?\n",
    "\n",
    "Wrong Answer: Open standards and protocols allow users to freely share or reuse material found on the Internet for noncommercial purposes. This answer was incorrect due to open standards and protocols not being allowed to use copyrighted materials to be shared freely\n",
    "\n",
    "Right Answer: Open standards and protocols allow different manufacturers and developers to build hardware and software that can communicate with hardware and software on the rest of the network. This is the correct option due to open standards being used to show the data sent over the internet allows all connceted hardware and software to communicate in a standard way."
   ]
  }
 ],
 "metadata": {
  "language_info": {
   "name": "python"
  }
 },
 "nbformat": 4,
 "nbformat_minor": 2
}
