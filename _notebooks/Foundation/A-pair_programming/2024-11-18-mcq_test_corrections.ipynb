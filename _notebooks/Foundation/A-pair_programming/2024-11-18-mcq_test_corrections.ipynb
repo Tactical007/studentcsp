{
 "cells": [
  {
   "cell_type": "markdown",
   "metadata": {
    "vscode": {
     "languageId": "plaintext"
    }
   },
   "source": [
    "---\n",
    "layout: post\n",
    "title: MCQ test corrections\n",
    "description: \n",
    "type: issues\n",
    "comments: true\n",
    "permalink: /mcqcorrections\n",
    "---\n"
   ]
  },
  {
   "cell_type": "markdown",
   "metadata": {},
   "source": [
    "### My score was a 59/66\n",
    "\n",
    "I found the quiz to be extremley challanging and was vastly based on conductive critical thinking. I found that I had trouble with quite a few questions that were typically written in strange ways or questions that simply were very wordy and complex by design. I had a hard time with these questions do the nature of them being confusing and almost non-critical when it came to solutions. There were also some things in some questions I had utterly no clue about so I consulted some of my classmates and had peer disscusion in order to come to certain conclusions during the MCQ. Overall I learned more about certain things I had previously no clue about and I also learned more more about peer collborative disscusion when it came to several topics and multiple specficis with certain processes of elimination in addition to self refrences.\n",
    "\n",
    "### Questions\n",
    "I got questions 3, 5, 7, 14, 29, 38 and 39 incorrect. Both Q7 and Q38 were examples of evaluating and testing algorithms and programs. In question 7 my answer for quetion 7 was D: for a value of 4 4 this was incorrect due to the value (4) being the final value of the current tag but it was not the final value of the start. Instead the start value should have been 3, I may have gotten the question incorrect due to blindsight or simply misreading the question. For question 38 related to 10th free purchase algorithm, I answered C, my answer was in the right format however I missunderstood what the question was asking and responded with the invese of what it was asking for. It wanted a true response within the code. The seeming explination was a mod 10 count without a not in front of it to indicate the true output, yet my code segment of choice did not set cost to 0 appropriately. Another example such as question 3, related to citizen science, I responded with A An expermient that requires all participants to be working in the same laboratory, this was incorrect. The right answer was C: An experiment that requires data measurements to be taken in many different locations. I got this question wrong because I misunderstood what citizen science was by thinking that the citizen part ment locally sources or apart of the same thing while instead it means distributed over several locations. My change in understanding could have arrived if I had also discussed my findings or my answer with others in CSP to see what they part, although for the most part this question was answered inccorectly due to simply not knowing the correct answer. For the rest of the questions I got wrong they typically werent very related to one another but instead were written in slightly confusing ways or I simply didn't knwo the topic so Q5, Q14, Q29, and Q39 were not the same question type. \n",
    "For most of them the vast majority of the time I got them wrong due to either not know ing the content which was rarer, missunderstanding the question which was more common, or picking the wrong answer by mistake. To avoid this I typically checked while working with others in CSP what they though about my answers and critqued and broke down all the diffrent options for answers there were.\n",
    "\n",
    "### Analytics\n",
    "The majourity of my questions that were incorrect were conditionals and crowdsourcing with around 50% total accuracy for them. \n",
    "\n",
    "### Improvments\n",
    "I will improve by taking more practice exams whilst educating myself on the content I didn't know prior to taking the test. I will be able to review several different exams and will discuss with my peers their thoughts on complex questions to deepen my understanding of mcqs for Comp Sci Principles.\n"
   ]
  }
 ],
 "metadata": {
  "language_info": {
   "name": "python"
  }
 },
 "nbformat": 4,
 "nbformat_minor": 2
}
