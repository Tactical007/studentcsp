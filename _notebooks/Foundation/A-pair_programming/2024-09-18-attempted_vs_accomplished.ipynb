{
 "cells": [
  {
   "cell_type": "markdown",
   "metadata": {
    "vscode": {
     "languageId": "raw"
    }
   },
   "source": [
    "---\n",
    "layout: post\n",
    "title: Attempted vs Accomplished\n",
    "description: What I was able to finish and complete versus what I was unable to complete or attempted\n",
    "type: issues\n",
    "comments: true\n",
    "permalink: /attempted_vs_accomplished\n",
    "---\n",
    "\n",
    "<h3> Accomplished</h3>\n",
    "Throughout this class so far I have had multiple strong accomplishments\n",
    " that have been instramental in my growth and learning. Near the start \n",
    " of my CSP journey I struggled for days with certain tools and development softwares encountering multiple bugs.\n",
    "  Eventually, I was able to fix my issues. \n",
    " I was able to verify, and commit also finishing these task very easily and succesfully.\n",
    " I also was able to accomplish finsihing my index and lots of things like the 5 different buttons that I added.\n",
    " I was finally was able to also finish multiple games and mini apps including calculator, snake, and tictactoe.\n",
    "\n",
    "<h3> Attempted</h3>\n",
    "There however were numerous things that I had that didnt work during this class and required some rewriting and changing in order to get the disred outcome.\n",
    "First I attempted to have mario intially as an emoji, and be displayed on my page in the form of a character the size of the text I was unable to do this having not done the Jupyter Notebooks thus far. I then was able to eventually able to compromise and instead make a moving gif the would be attached in postion to the floor and would be moved right until it was then reset back to the start postion.\n",
    "I attempted to put in new blogs and I was unable to do so without not being able to make, eventually I was able to delete some of the parts of the blog in order to fix the error then being able to make again. I still had some issues later down the road but thats fine.\n",
    "I was unable to do certain things such as some pair programming parts due to some issues with teammates and other communication. My communication with team still is in parts lacking due to certain individuals that have had grand impacts on our communication and changes.\n",
    "\n",
    "<script src=\"https://utteranc.es/client.js\"\n",
    "        repo=\"nighthawkcoders/portfolio_2025\"\n",
    "        issue-term=\"title\"\n",
    "        label=\"blogpost-comment\"\n",
    "        theme=\"github-light\"\n",
    "        crossorigin=\"anonymous\"\n",
    "        async>\n",
    "</script>\n"
   ]
  }
 ],
 "metadata": {
  "kernelspec": {
   "display_name": "Python 3",
   "language": "python",
   "name": "python3"
  },
  "language_info": {
   "codemirror_mode": {
    "name": "ipython",
    "version": 3
   },
   "file_extension": ".py",
   "mimetype": "text/x-python",
   "name": "python",
   "nbconvert_exporter": "python",
   "pygments_lexer": "ipython3",
   "version": "3.12.3"
  }
 },
 "nbformat": 4,
 "nbformat_minor": 2
}
