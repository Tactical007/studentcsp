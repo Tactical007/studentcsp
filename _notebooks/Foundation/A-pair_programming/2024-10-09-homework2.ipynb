{
 "cells": [
  {
   "cell_type": "markdown",
   "metadata": {
    "vscode": {
     "languageId": "raw"
    }
   },
   "source": [
    "---\n",
    "layout: post\n",
    "title: Homework2\n",
    "description: The secound homework, within 3.6 and 3.7\n",
    "type: issues\n",
    "comments: true\n",
    "permalink: /homework2\n",
    "---\n",
    "\n"
   ]
  },
  {
   "cell_type": "markdown",
   "metadata": {},
   "source": [
    "### First HW question"
   ]
  },
  {
   "cell_type": "code",
   "execution_count": 2,
   "metadata": {},
   "outputs": [
    {
     "name": "stdout",
     "output_type": "stream",
     "text": [
      "You are eligible to vote.\n"
     ]
    }
   ],
   "source": [
    "# Input: Age of the user\n",
    "age = int(input(\"Enter your age: \"))\n",
    "\n",
    "# Checking to see if the user is eligible to vote\n",
    "if age >= 18:\n",
    "    print(\"You are eligible to vote.\")\n",
    "# printing if they are eligible to vote, versus not being eligible to vote with the else statement used\n",
    "else:\n",
    "    print(\"You are not eligible to vote.\")\n"
   ]
  },
  {
   "cell_type": "markdown",
   "metadata": {},
   "source": [
    "### Secound HW Question"
   ]
  },
  {
   "cell_type": "code",
   "execution_count": 1,
   "metadata": {},
   "outputs": [
    {
     "name": "stdout",
     "output_type": "stream",
     "text": [
      "You should have an apple!\n"
     ]
    }
   ],
   "source": [
    "# first gain user imput to decide output\n",
    "health_status = input(\"Do you want to eat healthy, unhealthy, or don't care (healthy/unhealthy/don't care): \").lower()\n",
    "# Intially taking the input of healthy by the user to decide that they should have something healthy like they want so we print that they should eat an apple.\n",
    "if health_status == \"healthy\":\n",
    "    print(\"You should have an apple!\")\n",
    "# For the unhealthy group who want to eat unhealthy we suggest having something sweet like chocolate, and use a elif(else if) statement to check for alternative conditions\n",
    "elif health_status == \"unhealthy\":\n",
    "    print(\"You should have something sweet like chocolate!\")\n",
    " # If the user dosn't care what they eat then we suggest, drinking coffee versus something else using a else statement\n",
    "else:\n",
    "    print(\"You should drink some coffee, if you don't have a preference.\")"
   ]
  }
 ],
 "metadata": {
  "kernelspec": {
   "display_name": "venv",
   "language": "python",
   "name": "python3"
  },
  "language_info": {
   "codemirror_mode": {
    "name": "ipython",
    "version": 3
   },
   "file_extension": ".py",
   "mimetype": "text/x-python",
   "name": "python",
   "nbconvert_exporter": "python",
   "pygments_lexer": "ipython3",
   "version": "3.12.3"
  }
 },
 "nbformat": 4,
 "nbformat_minor": 2
}
