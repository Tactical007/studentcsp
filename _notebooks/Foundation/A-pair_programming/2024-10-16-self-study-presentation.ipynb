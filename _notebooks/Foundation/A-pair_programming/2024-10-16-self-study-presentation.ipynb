{
 "cells": [
  {
   "cell_type": "raw",
   "metadata": {
    "vscode": {
     "languageId": "raw"
    }
   },
   "source": [
    "---\n",
    "layout: post\n",
    "title: What we Learned - Self Study Presentation\n",
    "description: What we learned in 3.1-3.8 and 3.10, and some examples of how we learned these things\n",
    "categories: [JavaScript]\n",
    "permalink: /self_study_presentations\n",
    "comments: true\n",
    "---"
   ]
  },
  {
   "cell_type": "markdown",
   "metadata": {},
   "source": [
    "### 3.1 - Variables"
   ]
  },
  {
   "cell_type": "code",
   "execution_count": null,
   "metadata": {},
   "outputs": [],
   "source": [
    "# Step 1: Initialize the variable\n",
    "my_var = 10  # Integer\n",
    "print(f\"Step 1: {my_var} is of type {type(my_var)}\")\n",
    "\n",
    "# Step 2: Reassign to float\n",
    "my_var = 10.5  # Float\n",
    "print(f\"Step 2: {my_var} is of type {type(my_var)}\")\n",
    "\n",
    "# Step 3: Reassigning to string\n",
    "my_var = \"Hello, World!\"  # String\n",
    "print(f\"Step 3: {my_var} is of type {type(my_var)}\")\n",
    "\n",
    "# Step 4: Reassigning to a boolean\n",
    "my_var = True  # Boolean\n",
    "print(f\"Step 4: {my_var} is of type {type(my_var)}\")"
   ]
  },
  {
   "cell_type": "code",
   "execution_count": null,
   "metadata": {},
   "outputs": [],
   "source": []
  }
 ],
 "metadata": {
  "kernelspec": {
   "display_name": "venv",
   "language": "python",
   "name": "python3"
  },
  "language_info": {
   "codemirror_mode": {
    "name": "ipython",
    "version": 3
   },
   "file_extension": ".py",
   "mimetype": "text/x-python",
   "name": "python",
   "nbconvert_exporter": "python",
   "pygments_lexer": "ipython3",
   "version": "3.12.3"
  }
 },
 "nbformat": 4,
 "nbformat_minor": 2
}
